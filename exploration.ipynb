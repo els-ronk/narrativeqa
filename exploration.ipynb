{
 "cells": [
  {
   "cell_type": "markdown",
   "metadata": {},
   "source": [
    "# Exploring NarrativeQA"
   ]
  },
  {
   "cell_type": "markdown",
   "metadata": {},
   "source": [
    "## Summaries.csv"
   ]
  },
  {
   "cell_type": "code",
   "execution_count": 2,
   "metadata": {},
   "outputs": [],
   "source": [
    "import pandas as pd\n"
   ]
  },
  {
   "cell_type": "code",
   "execution_count": 3,
   "metadata": {},
   "outputs": [],
   "source": [
    "df = pd.read_csv('/Users/kremerr/Documents/GitHub/narrativeqa/third_party/wikipedia/summaries.csv')"
   ]
  },
  {
   "cell_type": "code",
   "execution_count": 4,
   "metadata": {},
   "outputs": [
    {
     "data": {
      "text/html": [
       "<div>\n",
       "<style scoped>\n",
       "    .dataframe tbody tr th:only-of-type {\n",
       "        vertical-align: middle;\n",
       "    }\n",
       "\n",
       "    .dataframe tbody tr th {\n",
       "        vertical-align: top;\n",
       "    }\n",
       "\n",
       "    .dataframe thead th {\n",
       "        text-align: right;\n",
       "    }\n",
       "</style>\n",
       "<table border=\"1\" class=\"dataframe\">\n",
       "  <thead>\n",
       "    <tr style=\"text-align: right;\">\n",
       "      <th></th>\n",
       "      <th>document_id</th>\n",
       "      <th>set</th>\n",
       "      <th>summary</th>\n",
       "      <th>summary_tokenized</th>\n",
       "    </tr>\n",
       "  </thead>\n",
       "  <tbody>\n",
       "    <tr>\n",
       "      <th>0</th>\n",
       "      <td>0025577043f5090cd603c6aea60f26e236195594</td>\n",
       "      <td>test</td>\n",
       "      <td>Mark Hunter (Slater), a high school student i...</td>\n",
       "      <td>Mark Hunter ( Slater ) , a high school student...</td>\n",
       "    </tr>\n",
       "    <tr>\n",
       "      <th>1</th>\n",
       "      <td>0029bdbe75423337b551e42bb31f9a102785376f</td>\n",
       "      <td>train</td>\n",
       "      <td>At Madeline Hall, an old mansion-house near S...</td>\n",
       "      <td>At Madeline Hall , an old mansion-house near S...</td>\n",
       "    </tr>\n",
       "    <tr>\n",
       "      <th>2</th>\n",
       "      <td>00936497f5884881f1df23f4834f6739552cee8b</td>\n",
       "      <td>train</td>\n",
       "      <td>A scholar and explorer, Dr. Samuel Ferguson, ...</td>\n",
       "      <td>A scholar and explorer , Dr. Samuel Ferguson ,...</td>\n",
       "    </tr>\n",
       "    <tr>\n",
       "      <th>3</th>\n",
       "      <td>00950a3641e6a28b04a6fabf6334140e2deaa9fd</td>\n",
       "      <td>train</td>\n",
       "      <td>The story begins when a female lovely named O...</td>\n",
       "      <td>The story begins when a female lovely named Ol...</td>\n",
       "    </tr>\n",
       "    <tr>\n",
       "      <th>4</th>\n",
       "      <td>00ee9e01a0e581e0d8cbf7e865a895147c480c5e</td>\n",
       "      <td>train</td>\n",
       "      <td>Chev Chelios (Jason Statham) is a Los Angeles...</td>\n",
       "      <td>Chev Chelios ( Jason Statham ) is a Los Angele...</td>\n",
       "    </tr>\n",
       "  </tbody>\n",
       "</table>\n",
       "</div>"
      ],
      "text/plain": [
       "                                document_id    set  \\\n",
       "0  0025577043f5090cd603c6aea60f26e236195594   test   \n",
       "1  0029bdbe75423337b551e42bb31f9a102785376f  train   \n",
       "2  00936497f5884881f1df23f4834f6739552cee8b  train   \n",
       "3  00950a3641e6a28b04a6fabf6334140e2deaa9fd  train   \n",
       "4  00ee9e01a0e581e0d8cbf7e865a895147c480c5e  train   \n",
       "\n",
       "                                             summary  \\\n",
       "0   Mark Hunter (Slater), a high school student i...   \n",
       "1   At Madeline Hall, an old mansion-house near S...   \n",
       "2   A scholar and explorer, Dr. Samuel Ferguson, ...   \n",
       "3   The story begins when a female lovely named O...   \n",
       "4   Chev Chelios (Jason Statham) is a Los Angeles...   \n",
       "\n",
       "                                   summary_tokenized  \n",
       "0  Mark Hunter ( Slater ) , a high school student...  \n",
       "1  At Madeline Hall , an old mansion-house near S...  \n",
       "2  A scholar and explorer , Dr. Samuel Ferguson ,...  \n",
       "3  The story begins when a female lovely named Ol...  \n",
       "4  Chev Chelios ( Jason Statham ) is a Los Angele...  "
      ]
     },
     "execution_count": 4,
     "metadata": {},
     "output_type": "execute_result"
    }
   ],
   "source": [
    "df.head()"
   ]
  },
  {
   "cell_type": "code",
   "execution_count": 18,
   "metadata": {},
   "outputs": [
    {
     "data": {
      "text/plain": [
       "1572"
      ]
     },
     "execution_count": 18,
     "metadata": {},
     "output_type": "execute_result"
    }
   ],
   "source": [
    "len(df)"
   ]
  },
  {
   "cell_type": "code",
   "execution_count": 27,
   "metadata": {},
   "outputs": [
    {
     "data": {
      "text/plain": [
       "6090"
      ]
     },
     "execution_count": 27,
     "metadata": {},
     "output_type": "execute_result"
    }
   ],
   "source": [
    "max(len(summary) for summary in df['summary'])"
   ]
  },
  {
   "cell_type": "code",
   "execution_count": 30,
   "metadata": {},
   "outputs": [
    {
     "name": "stdout",
     "output_type": "stream",
     "text": [
      "1296  In Marseille, an undercover detective is following Alain Charnier (Fernando Rey), a wealthy French criminal who runs the largest heroin-smuggling syndicate in the world. The policeman is assassinated by Charnier's hitman, Pierre Nicoli (Marcel Bozzuffi). Charnier plans to smuggle $32 million worth of heroin into the United States by hiding it in the car of his unsuspecting friend, French television personality Henri Devereaux (Frédéric de Pasquale).\n",
      "In New York City, detectives Jimmy \"Popeye\" Doyle (Gene Hackman) and Buddy \"Cloudy\" Russo (Roy Scheider) are conducting an undercover stakeout in Bedford-Stuyvesant, Brooklyn. After seeing a drug transaction take place in a bar, Cloudy goes in to make an arrest, but the suspect makes a break for it, cutting Cloudy on the arm with a knife. After catching up with their suspect and severely beating him, the detectives interrogate the man, who reveals his drug connection.\n",
      "Later, Popeye and Cloudy go out for drinks at the Copacabana, where Popeye notices Salvatore \"Sal\" Boca (Tony Lo Bianco) and his young wife Angie (Arlene Farber) entertaining mob members involved in narcotics. They decide to tail the couple, and soon learn that the Bocas, who run a modest newsstand luncheonette, have criminal records: Sal for armed robbery and murder, and Angie for shoplifting. The detectives suspect that the Bocas, who frequent several nightclubs and drive expensive cars, are involved in some kind of criminal operation. They soon establish a link between the Bocas and lawyer Joel Weinstock (Harold Gary), who is part of the narcotics underworld.\n",
      "Soon after, Popeye learns from an informant that a major shipment of heroin will arrive in the New York area. The detectives convince their supervisor, Walt Simonson (Eddie Egan), to wiretap the Bocas' phones, and they use several ruses to obtain additional information. Popeye and Cloudy are joined in the investigation by a federal agent named Mulderig (Bill Hickman). Popeye and Mulderig dislike each other based on having worked together in the past, with Mulderig holding Popeye responsible for the death of a policeman.\n",
      "After Devereaux's Lincoln Continental Mark III arrives in New York City, Weinstock's chemist (Pat McDermott) tests a sample of the heroin and declares it the purest he has ever seen, establishing that the shipment could make as much as $32 million on a half-million dollar investment. Boca is impatient to make the purchase—reflecting Charnier's desire to return to France as soon as possible—while Weinstock, with more experience in smuggling, urges patience, knowing Boca's phone is tapped and that they are being investigated.\n",
      "Charnier soon realizes he has been observed since his arrival in New York. He \"makes\" Popeye and escapes, waving tauntingly on the departing subway shuttle from Grand Central Terminal. To avoid being tailed, he has Sal Boca instead meet him in Washington D.C., where Boca asks for a delay to avoid the police. Charnier, however, wants to conclude the deal quickly so he can return to France. On the flight back to New York, Nicoli offers to kill Popeye, but Charnier objects, knowing that Popeye would be replaced by another policeman. Nicoli insists, however, saying they will be back in France before a replacement is assigned.\n",
      "Soon after, Nicoli attempts to shoot Popeye from the roof of Doyle's apartment complex but misses. Popeye chases after the fleeing sniper, who boards an elevated train at the Bay 50th Street Station in Gravesend. Doyle commandeers a car and gives chase along Stillwell Avenue. Realizing he is pursued, Nicoli works his way forward through the carriages, kills a policeman who tries to intervene and then hijacks the motorman at gunpoint forcing him to drive straight through the next station, also killing the train conductor who gets too close. The motorman passes out and they are just about to slam into another, stationary, train, when an emergency trackside brake engages violently hurling the assassin against a glass window. Popeye arrives limping, having wrecked the commandeered car, and sees the killer descending from the platform. When he sees Doyle, he turns to run but is shot dead by Doyle with a single shot.\n",
      "After a lengthy stakeout, Popeye impounds Devereaux's Lincoln. In a police garage, he and his team take it apart piece by piece, searching for the drugs, but seemingly come up empty-handed. Then Cloudy notes that the vehicle's shipping weight is 120 pounds over its listed manufacturer's weight; they realize the contraband must still be in the car. This time they remove the rocker panels and discover the obloid packages (some light blue and some light green) of heroin concealed therein. The police then restore the car to its original condition and return it to Devereaux, who delivers the Lincoln to Charnier.\n",
      "Charnier drives to an old factory on Wards Island to meet Weinstock, and about a dozen others, and deliver the drugs. After Charnier has the rocker panels removed, Weinstock's chemist tests one of the bags and confirms its quality. Charnier removes the bags of drugs, and hides the money; concealing it beneath the rocker panels of another car that was purchased at an auction of junk cars, which he will then take back to France. With their transaction complete, Charnier and Sal drive off in the Lincoln, but almost immediately hit a roadblock with a large contingent of police led by Popeye Doyle, who playfully waves to Charnier. The police chase the Lincoln back to the factory, where Sal is killed with two shotgun blasts during a shootout with the police and most of the other criminals surrender.\n",
      "Charnier, however, escapes into the old warehouse and Popeye follows after him, with Cloudy joining in the hunt. When Popeye sees a shadowy figure in the distance, he empties his revolver a split-second after shouting a warning. The man whom Popeye kills, however, is not Charnier but Mulderig. Undaunted, Popeye tells Cloudy that he will get Charnier. After reloading his gun, Popeye runs into another room, and a few seconds later, a single gunshot is heard.\n"
     ]
    }
   ],
   "source": [
    "for i, summary in enumerate(df['summary']):\n",
    "    if len(summary)==6090:\n",
    "        print(i, summary)"
   ]
  },
  {
   "cell_type": "code",
   "execution_count": 31,
   "metadata": {},
   "outputs": [
    {
     "data": {
      "text/plain": [
       "1126"
      ]
     },
     "execution_count": 31,
     "metadata": {},
     "output_type": "execute_result"
    }
   ],
   "source": [
    "min(len(summary) for summary in df['summary'])"
   ]
  },
  {
   "cell_type": "code",
   "execution_count": 32,
   "metadata": {},
   "outputs": [
    {
     "name": "stdout",
     "output_type": "stream",
     "text": [
      "733  The first two lines are a complete story by themselves:\n",
      "\" The last man on Earth sat alone in a room. There was a knock on the door...\"\n",
      "The Zan have killed off all life on Earth other than pairs of specimens for their zoo of exotic Earth fauna. Walter Phelan is the last man on Earth, but Grace Evans, the last woman, is not overly impressed with him and maintains her distance.\n",
      "The Zan, who are ageless, become disturbed when, one by one, the other animals begin to die. They turn to Walter for advice. He tells them that the creatures have perished from lack of affection, suggesting that they pet the survivors regularly to keep them alive. He demonstrates with one of them. When the Zan begin to die, they depart the planet in fear. It is then revealed that the creature Walter advised them to pet was a poisonous snake.\n",
      "Then Walter discusses the future of the human race with Grace. She is shocked by his proposal and leaves as he intended to use the Zan technology left behind to create \"the master race\". The narrative then ends as it began:\n",
      "\"The last man on Earth sat alone in a room. There was a knock on the door...\"\n"
     ]
    }
   ],
   "source": [
    "for i, summary in enumerate(df['summary']):\n",
    "    if len(summary)==1126:\n",
    "        print(i, summary)"
   ]
  },
  {
   "cell_type": "code",
   "execution_count": 36,
   "metadata": {},
   "outputs": [
    {
     "data": {
      "image/png": "[encoded data removed]",
      "text/plain": [
       "<Figure size 1000x600 with 1 Axes>"
      ]
     },
     "metadata": {},
     "output_type": "display_data"
    }
   ],
   "source": [
    "import matplotlib.pyplot as plt\n",
    "%matplotlib inline\n",
    "\n",
    "df['summary_length'] = df['summary'].apply(len)\n",
    "\n",
    "# Define buckets for summary lengths\n",
    "buckets = range(0, max(df['summary_length']) + 100, 100)  # Adjust the step size as necessary\n",
    "\n",
    "# Plot the distribution of summary lengths\n",
    "plt.figure(figsize=(10, 6))\n",
    "plt.hist(df['summary_length'], bins=buckets, edgecolor='k', alpha=0.7)\n",
    "plt.title('Distribution of Summary Lengths')\n",
    "plt.xlabel('Summary Length (chars)')\n",
    "plt.ylabel('Number of Documents')\n",
    "plt.grid(axis='y', alpha=0.75)\n",
    "plt.show()"
   ]
  },
  {
   "cell_type": "code",
   "execution_count": 16,
   "metadata": {},
   "outputs": [],
   "source": [
    "from collections import Counter\n",
    "cnt = Counter()\n",
    "for set in (df['set'].unique()):\n",
    "    for row in df['set']:\n",
    "        if row == set:\n",
    "            cnt[set] +=1\n"
   ]
  },
  {
   "cell_type": "code",
   "execution_count": 37,
   "metadata": {},
   "outputs": [
    {
     "data": {
      "text/plain": [
       "Counter({'train': 1102, 'test': 355, 'valid': 115})"
      ]
     },
     "execution_count": 37,
     "metadata": {},
     "output_type": "execute_result"
    }
   ],
   "source": [
    "cnt"
   ]
  },
  {
   "cell_type": "code",
   "execution_count": 38,
   "metadata": {},
   "outputs": [
    {
     "data": {
      "text/html": [
       "<div>\n",
       "<style scoped>\n",
       "    .dataframe tbody tr th:only-of-type {\n",
       "        vertical-align: middle;\n",
       "    }\n",
       "\n",
       "    .dataframe tbody tr th {\n",
       "        vertical-align: top;\n",
       "    }\n",
       "\n",
       "    .dataframe thead th {\n",
       "        text-align: right;\n",
       "    }\n",
       "</style>\n",
       "<table border=\"1\" class=\"dataframe\">\n",
       "  <thead>\n",
       "    <tr style=\"text-align: right;\">\n",
       "      <th></th>\n",
       "      <th>document_id</th>\n",
       "      <th>set</th>\n",
       "      <th>summary</th>\n",
       "      <th>summary_tokenized</th>\n",
       "      <th>summary_length</th>\n",
       "    </tr>\n",
       "  </thead>\n",
       "  <tbody>\n",
       "    <tr>\n",
       "      <th>0</th>\n",
       "      <td>0025577043f5090cd603c6aea60f26e236195594</td>\n",
       "      <td>test</td>\n",
       "      <td>Mark Hunter (Slater), a high school student i...</td>\n",
       "      <td>Mark Hunter ( Slater ) , a high school student...</td>\n",
       "      <td>3051</td>\n",
       "    </tr>\n",
       "    <tr>\n",
       "      <th>1</th>\n",
       "      <td>0029bdbe75423337b551e42bb31f9a102785376f</td>\n",
       "      <td>train</td>\n",
       "      <td>At Madeline Hall, an old mansion-house near S...</td>\n",
       "      <td>At Madeline Hall , an old mansion-house near S...</td>\n",
       "      <td>5098</td>\n",
       "    </tr>\n",
       "    <tr>\n",
       "      <th>2</th>\n",
       "      <td>00936497f5884881f1df23f4834f6739552cee8b</td>\n",
       "      <td>train</td>\n",
       "      <td>A scholar and explorer, Dr. Samuel Ferguson, ...</td>\n",
       "      <td>A scholar and explorer , Dr. Samuel Ferguson ,...</td>\n",
       "      <td>2363</td>\n",
       "    </tr>\n",
       "    <tr>\n",
       "      <th>3</th>\n",
       "      <td>00950a3641e6a28b04a6fabf6334140e2deaa9fd</td>\n",
       "      <td>train</td>\n",
       "      <td>The story begins when a female lovely named O...</td>\n",
       "      <td>The story begins when a female lovely named Ol...</td>\n",
       "      <td>2241</td>\n",
       "    </tr>\n",
       "    <tr>\n",
       "      <th>4</th>\n",
       "      <td>00ee9e01a0e581e0d8cbf7e865a895147c480c5e</td>\n",
       "      <td>train</td>\n",
       "      <td>Chev Chelios (Jason Statham) is a Los Angeles...</td>\n",
       "      <td>Chev Chelios ( Jason Statham ) is a Los Angele...</td>\n",
       "      <td>4305</td>\n",
       "    </tr>\n",
       "  </tbody>\n",
       "</table>\n",
       "</div>"
      ],
      "text/plain": [
       "                                document_id    set  \\\n",
       "0  0025577043f5090cd603c6aea60f26e236195594   test   \n",
       "1  0029bdbe75423337b551e42bb31f9a102785376f  train   \n",
       "2  00936497f5884881f1df23f4834f6739552cee8b  train   \n",
       "3  00950a3641e6a28b04a6fabf6334140e2deaa9fd  train   \n",
       "4  00ee9e01a0e581e0d8cbf7e865a895147c480c5e  train   \n",
       "\n",
       "                                             summary  \\\n",
       "0   Mark Hunter (Slater), a high school student i...   \n",
       "1   At Madeline Hall, an old mansion-house near S...   \n",
       "2   A scholar and explorer, Dr. Samuel Ferguson, ...   \n",
       "3   The story begins when a female lovely named O...   \n",
       "4   Chev Chelios (Jason Statham) is a Los Angeles...   \n",
       "\n",
       "                                   summary_tokenized  summary_length  \n",
       "0  Mark Hunter ( Slater ) , a high school student...            3051  \n",
       "1  At Madeline Hall , an old mansion-house near S...            5098  \n",
       "2  A scholar and explorer , Dr. Samuel Ferguson ,...            2363  \n",
       "3  The story begins when a female lovely named Ol...            2241  \n",
       "4  Chev Chelios ( Jason Statham ) is a Los Angele...            4305  "
      ]
     },
     "execution_count": 38,
     "metadata": {},
     "output_type": "execute_result"
    }
   ],
   "source": [
    "df.head()"
   ]
  },
  {
   "cell_type": "markdown",
   "metadata": {},
   "source": [
    "## Qaps.csv"
   ]
  },
  {
   "cell_type": "code",
   "execution_count": 40,
   "metadata": {},
   "outputs": [],
   "source": [
    "qaps = pd.read_csv('/Users/kremerr/Documents/GitHub/narrativeqa/qaps.csv')"
   ]
  },
  {
   "cell_type": "code",
   "execution_count": 41,
   "metadata": {},
   "outputs": [
    {
     "data": {
      "text/html": [
       "<div>\n",
       "<style scoped>\n",
       "    .dataframe tbody tr th:only-of-type {\n",
       "        vertical-align: middle;\n",
       "    }\n",
       "\n",
       "    .dataframe tbody tr th {\n",
       "        vertical-align: top;\n",
       "    }\n",
       "\n",
       "    .dataframe thead th {\n",
       "        text-align: right;\n",
       "    }\n",
       "</style>\n",
       "<table border=\"1\" class=\"dataframe\">\n",
       "  <thead>\n",
       "    <tr style=\"text-align: right;\">\n",
       "      <th></th>\n",
       "      <th>document_id</th>\n",
       "      <th>set</th>\n",
       "      <th>question</th>\n",
       "      <th>answer1</th>\n",
       "      <th>answer2</th>\n",
       "      <th>question_tokenized</th>\n",
       "      <th>answer1_tokenized</th>\n",
       "      <th>answer2_tokenized</th>\n",
       "    </tr>\n",
       "  </thead>\n",
       "  <tbody>\n",
       "    <tr>\n",
       "      <th>0</th>\n",
       "      <td>0025577043f5090cd603c6aea60f26e236195594</td>\n",
       "      <td>test</td>\n",
       "      <td>Who is Mark Hunter?</td>\n",
       "      <td>He is a high school student in Phoenix.</td>\n",
       "      <td>A loner and outsider student with a radio stat...</td>\n",
       "      <td>Who is Mark Hunter ?</td>\n",
       "      <td>He is a high school student in Phoenix .</td>\n",
       "      <td>A loner and outsider student with a radio stat...</td>\n",
       "    </tr>\n",
       "    <tr>\n",
       "      <th>1</th>\n",
       "      <td>0025577043f5090cd603c6aea60f26e236195594</td>\n",
       "      <td>test</td>\n",
       "      <td>Where does this radio station take place?</td>\n",
       "      <td>It takes place in Mark's parents basement.</td>\n",
       "      <td>Phoenix, Arizona</td>\n",
       "      <td>Where does this radio station take place ?</td>\n",
       "      <td>It takes place in Mark s parents basement .</td>\n",
       "      <td>Phoenix , Arizona</td>\n",
       "    </tr>\n",
       "    <tr>\n",
       "      <th>2</th>\n",
       "      <td>0025577043f5090cd603c6aea60f26e236195594</td>\n",
       "      <td>test</td>\n",
       "      <td>Why do more students tune into Mark's show?</td>\n",
       "      <td>Mark talks about what goes on at school and in...</td>\n",
       "      <td>Because he has a thing to say about what is ha...</td>\n",
       "      <td>Why do more students tune into Mark s show ?</td>\n",
       "      <td>Mark talks about what goes on at school and in...</td>\n",
       "      <td>Because he has a thing to say about what is ha...</td>\n",
       "    </tr>\n",
       "    <tr>\n",
       "      <th>3</th>\n",
       "      <td>0025577043f5090cd603c6aea60f26e236195594</td>\n",
       "      <td>test</td>\n",
       "      <td>Who commits suicide?</td>\n",
       "      <td>Malcolm.</td>\n",
       "      <td>Malcolm.</td>\n",
       "      <td>Who commits suicide ?</td>\n",
       "      <td>Malcolm .</td>\n",
       "      <td>Malcolm .</td>\n",
       "    </tr>\n",
       "    <tr>\n",
       "      <th>4</th>\n",
       "      <td>0025577043f5090cd603c6aea60f26e236195594</td>\n",
       "      <td>test</td>\n",
       "      <td>What does Paige jam into her microwave?</td>\n",
       "      <td>She jams her medals and accolades.</td>\n",
       "      <td>Her award medals</td>\n",
       "      <td>What does Paige jam into her microwave ?</td>\n",
       "      <td>She jams her medals and accolades .</td>\n",
       "      <td>Her award medals</td>\n",
       "    </tr>\n",
       "  </tbody>\n",
       "</table>\n",
       "</div>"
      ],
      "text/plain": [
       "                                document_id   set  \\\n",
       "0  0025577043f5090cd603c6aea60f26e236195594  test   \n",
       "1  0025577043f5090cd603c6aea60f26e236195594  test   \n",
       "2  0025577043f5090cd603c6aea60f26e236195594  test   \n",
       "3  0025577043f5090cd603c6aea60f26e236195594  test   \n",
       "4  0025577043f5090cd603c6aea60f26e236195594  test   \n",
       "\n",
       "                                      question  \\\n",
       "0                          Who is Mark Hunter?   \n",
       "1    Where does this radio station take place?   \n",
       "2  Why do more students tune into Mark's show?   \n",
       "3                         Who commits suicide?   \n",
       "4      What does Paige jam into her microwave?   \n",
       "\n",
       "                                             answer1  \\\n",
       "0            He is a high school student in Phoenix.   \n",
       "1        It takes place in Mark's parents basement.    \n",
       "2  Mark talks about what goes on at school and in...   \n",
       "3                                           Malcolm.   \n",
       "4                She jams her medals and accolades.    \n",
       "\n",
       "                                             answer2  \\\n",
       "0  A loner and outsider student with a radio stat...   \n",
       "1                                   Phoenix, Arizona   \n",
       "2  Because he has a thing to say about what is ha...   \n",
       "3                                           Malcolm.   \n",
       "4                                   Her award medals   \n",
       "\n",
       "                             question_tokenized  \\\n",
       "0                          Who is Mark Hunter ?   \n",
       "1    Where does this radio station take place ?   \n",
       "2  Why do more students tune into Mark s show ?   \n",
       "3                         Who commits suicide ?   \n",
       "4      What does Paige jam into her microwave ?   \n",
       "\n",
       "                                   answer1_tokenized  \\\n",
       "0           He is a high school student in Phoenix .   \n",
       "1        It takes place in Mark s parents basement .   \n",
       "2  Mark talks about what goes on at school and in...   \n",
       "3                                          Malcolm .   \n",
       "4                She jams her medals and accolades .   \n",
       "\n",
       "                                   answer2_tokenized  \n",
       "0  A loner and outsider student with a radio stat...  \n",
       "1                                  Phoenix , Arizona  \n",
       "2  Because he has a thing to say about what is ha...  \n",
       "3                                          Malcolm .  \n",
       "4                                   Her award medals  "
      ]
     },
     "execution_count": 41,
     "metadata": {},
     "output_type": "execute_result"
    }
   ],
   "source": [
    "qaps.head()"
   ]
  },
  {
   "cell_type": "code",
   "execution_count": null,
   "metadata": {},
   "outputs": [],
   "source": []
  }
 ],
 "metadata": {
  "kernelspec": {
   "display_name": "rarr",
   "language": "python",
   "name": "python3"
  },
  "language_info": {
   "codemirror_mode": {
    "name": "ipython",
    "version": 3
   },
   "file_extension": ".py",
   "mimetype": "text/x-python",
   "name": "python",
   "nbconvert_exporter": "python",
   "pygments_lexer": "ipython3",
   "version": "3.10.13"
  }
 },
 "nbformat": 4,
 "nbformat_minor": 2
}
